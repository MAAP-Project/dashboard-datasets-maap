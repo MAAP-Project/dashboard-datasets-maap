{
 "cells": [
  {
   "cell_type": "markdown",
   "metadata": {},
   "source": [
    "# Test raster dataset for adding to the dashboard\n",
    "This is a helper notebook for adding datasets to the dashboard\n",
    "\n",
    "The idea is that: a successful visualization of the data in the map in this notebook, would result in a successful visualization in the dashboard\n",
    "\n",
    "## Instruction\n",
    "- Add in the values of the variables in the cells that are specified as [Action Required]\n",
    "- Run each of the cell in sequential order\n",
    "- Check if the visualization looks correct in the map"
   ]
  },
  {
   "cell_type": "code",
   "execution_count": 47,
   "metadata": {},
   "outputs": [
    {
     "name": "stdout",
     "output_type": "stream",
     "text": [
      "Requirement already satisfied: folium in /Users/sadhikar/opt/anaconda3/lib/python3.8/site-packages (0.12.1)\n",
      "Requirement already satisfied: requests in /Users/sadhikar/opt/anaconda3/lib/python3.8/site-packages (2.25.1)\n",
      "Requirement already satisfied: branca>=0.3.0 in /Users/sadhikar/opt/anaconda3/lib/python3.8/site-packages (from folium) (0.4.2)\n",
      "Requirement already satisfied: numpy in /Users/sadhikar/opt/anaconda3/lib/python3.8/site-packages (from folium) (1.20.1)\n",
      "Requirement already satisfied: jinja2>=2.9 in /Users/sadhikar/opt/anaconda3/lib/python3.8/site-packages (from folium) (2.11.3)\n",
      "Requirement already satisfied: MarkupSafe>=0.23 in /Users/sadhikar/opt/anaconda3/lib/python3.8/site-packages (from jinja2>=2.9->folium) (1.1.1)\n",
      "Requirement already satisfied: certifi>=2017.4.17 in /Users/sadhikar/opt/anaconda3/lib/python3.8/site-packages (from requests) (2020.12.5)\n",
      "Requirement already satisfied: idna<3,>=2.5 in /Users/sadhikar/opt/anaconda3/lib/python3.8/site-packages (from requests) (2.10)\n",
      "Requirement already satisfied: urllib3<1.27,>=1.21.1 in /Users/sadhikar/opt/anaconda3/lib/python3.8/site-packages (from requests) (1.26.4)\n",
      "Requirement already satisfied: chardet<5,>=3.0.2 in /Users/sadhikar/opt/anaconda3/lib/python3.8/site-packages (from requests) (4.0.0)\n"
     ]
    }
   ],
   "source": [
    "# Installing required modules\n",
    "\n",
    "!pip install folium requests"
   ]
  },
  {
   "cell_type": "code",
   "execution_count": 48,
   "metadata": {},
   "outputs": [],
   "source": [
    "# Importing required libraries\n",
    "\n",
    "from folium import Map, TileLayer\n",
    "import requests\n",
    "import urllib"
   ]
  },
  {
   "cell_type": "code",
   "execution_count": 49,
   "metadata": {},
   "outputs": [],
   "source": [
    "# Some constants\n",
    "\n",
    "TITILER_ENDPOINT = \"https://baxpil3vd6.execute-api.us-east-1.amazonaws.com\"\n",
    "COG = \"cog\"\n",
    "MOSAICJSON = \"mosaicjson\"\n",
    "OPTIONS = [COG, MOSAICJSON]\n",
    "TILE_URL_TEMPLATE = \"{}/{}/tiles/{{z}}/{{x}}/{{y}}.png\"\n",
    "TILE_URL = { option: TILE_URL_TEMPLATE.format(TITILER_ENDPOINT, option) for option in OPTIONS  }"
   ]
  },
  {
   "cell_type": "markdown",
   "metadata": {},
   "source": [
    "## <span style=\"color:red\">[Action Required]</span>\n",
    "\n",
    "Please fill in one of these two values, leave the other as is. If both is supplied, mosaicjson takes precedence"
   ]
  },
  {
   "cell_type": "code",
   "execution_count": 66,
   "metadata": {},
   "outputs": [],
   "source": [
    "# User input\n",
    "\n",
    "mosaic_json_url = \"s3://maap-ops-dataset/maap-users/alexdevseed/landsat8/viz/L8_tile_test.json\"\n",
    "# OR\n",
    "tif_url = \"s3://nasa-maap-data-store/file-staging/nasa-map/SRTMGL1_COD___001/N22W090.SRTMGL1.tif\""
   ]
  },
  {
   "cell_type": "code",
   "execution_count": 67,
   "metadata": {},
   "outputs": [],
   "source": [
    "# Setting choice (mosaicjson/cog) based on the user input\n",
    "\n",
    "url = mosaic_json_url if mosaic_json_url else tif_url\n",
    "\n",
    "choice = None\n",
    "if mosaic_json_url:\n",
    "    choice = MOSAICJSON\n",
    "elif tif_url:\n",
    "    choice = COG\n",
    "else:\n",
    "    raise Exception(\"Please provide either a mosaic json url or a tif url\")"
   ]
  },
  {
   "cell_type": "markdown",
   "metadata": {},
   "source": [
    "## <span style=\"color:red\">[Action Required]</span>\n",
    "\n",
    "Add in the params that are needed, add in any extra params as required.\n",
    "\n",
    "Consult [this link](https://baxpil3vd6.execute-api.us-east-1.amazonaws.com/docs#/MosaicJSON/tile_mosaicjson_tiles__z___x___y__get) for the list of available params"
   ]
  },
  {
   "cell_type": "code",
   "execution_count": 68,
   "metadata": {},
   "outputs": [],
   "source": [
    "# User input\n",
    "\n",
    "# Add other params as required\n",
    "params = {\n",
    "    \"url\": url,\n",
    "    \"bidx\": \"6\",\n",
    "    \"resampling_method\": \"nearest\",\n",
    "    \"rescale\": \"0,1\",\n",
    "    \"return_mask\": \"true\",\n",
    "    \"colormap_name\": \"viridis\"\n",
    "}\n",
    "params = {k: v for k, v in params.items() if v}"
   ]
  },
  {
   "cell_type": "code",
   "execution_count": 69,
   "metadata": {},
   "outputs": [],
   "source": [
    "# Creating the tiles link using the user supplied params\n",
    "\n",
    "query_string_params = urllib.parse.urlencode(params)\n",
    "\n",
    "full_tiles_url = f\"{TILE_URL[choice]}?{query_string_params}\""
   ]
  },
  {
   "cell_type": "code",
   "execution_count": 70,
   "metadata": {},
   "outputs": [],
   "source": [
    "# Getting the bounds, min and max zoom levels based on the url provided\n",
    "\n",
    "info = requests.get(\n",
    "    f\"{TITILER_ENDPOINT}/{choice}/info?url={url}\"\n",
    ").json()\n",
    "\n",
    "# we need info['bounds'], info['maxzoom'], info['minzoom']\n",
    "bounds = info.get('bounds')"
   ]
  },
  {
   "cell_type": "code",
   "execution_count": 71,
   "metadata": {},
   "outputs": [],
   "source": [
    "# Initializing an OpenStreetMap with location set to the bounds of the input data\n",
    "\n",
    "m = Map(\n",
    "    tiles=\"OpenStreetMap\",\n",
    "    location=((bounds[1] + bounds[3]) / 2, (bounds[0] + bounds[2]) / 2) if bounds else None,\n",
    ")"
   ]
  },
  {
   "cell_type": "code",
   "execution_count": 72,
   "metadata": {},
   "outputs": [],
   "source": [
    "# Creating a tile layer for the map\n",
    "\n",
    "layer = TileLayer(\n",
    "    tiles=full_tiles_url,\n",
    "    attr=\"USGS\",\n",
    "    opacity=1,\n",
    "    min_zoom=info.get(\"minzoom\"),\n",
    "    max_zoom=info.get(\"maxzoom\")\n",
    ")"
   ]
  },
  {
   "cell_type": "code",
   "execution_count": 73,
   "metadata": {},
   "outputs": [
    {
     "data": {
      "text/plain": [
       "<folium.raster_layers.TileLayer at 0x7ff8c5875d60>"
      ]
     },
     "execution_count": 73,
     "metadata": {},
     "output_type": "execute_result"
    }
   ],
   "source": [
    "# Adding the tile layer to the map\n",
    "layer.add_to(m)"
   ]
  },
  {
   "cell_type": "code",
   "execution_count": 74,
   "metadata": {},
   "outputs": [
    {
     "data": {
      "text/html": [
       "<div style=\"width:100%;\"><div style=\"position:relative;width:100%;height:0;padding-bottom:60%;\"><span style=\"color:#565656\">Make this Notebook Trusted to load map: File -> Trust Notebook</span><iframe src=\"about:blank\" style=\"position:absolute;width:100%;height:100%;left:0;top:0;border:none !important;\" data-html=%3C%21DOCTYPE%20html%3E%0A%3Chead%3E%20%20%20%20%0A%20%20%20%20%3Cmeta%20http-equiv%3D%22content-type%22%20content%3D%22text/html%3B%20charset%3DUTF-8%22%20/%3E%0A%20%20%20%20%0A%20%20%20%20%20%20%20%20%3Cscript%3E%0A%20%20%20%20%20%20%20%20%20%20%20%20L_NO_TOUCH%20%3D%20false%3B%0A%20%20%20%20%20%20%20%20%20%20%20%20L_DISABLE_3D%20%3D%20false%3B%0A%20%20%20%20%20%20%20%20%3C/script%3E%0A%20%20%20%20%0A%20%20%20%20%3Cstyle%3Ehtml%2C%20body%20%7Bwidth%3A%20100%25%3Bheight%3A%20100%25%3Bmargin%3A%200%3Bpadding%3A%200%3B%7D%3C/style%3E%0A%20%20%20%20%3Cstyle%3E%23map%20%7Bposition%3Aabsolute%3Btop%3A0%3Bbottom%3A0%3Bright%3A0%3Bleft%3A0%3B%7D%3C/style%3E%0A%20%20%20%20%3Cscript%20src%3D%22https%3A//cdn.jsdelivr.net/npm/leaflet%401.6.0/dist/leaflet.js%22%3E%3C/script%3E%0A%20%20%20%20%3Cscript%20src%3D%22https%3A//code.jquery.com/jquery-1.12.4.min.js%22%3E%3C/script%3E%0A%20%20%20%20%3Cscript%20src%3D%22https%3A//maxcdn.bootstrapcdn.com/bootstrap/3.2.0/js/bootstrap.min.js%22%3E%3C/script%3E%0A%20%20%20%20%3Cscript%20src%3D%22https%3A//cdnjs.cloudflare.com/ajax/libs/Leaflet.awesome-markers/2.0.2/leaflet.awesome-markers.js%22%3E%3C/script%3E%0A%20%20%20%20%3Clink%20rel%3D%22stylesheet%22%20href%3D%22https%3A//cdn.jsdelivr.net/npm/leaflet%401.6.0/dist/leaflet.css%22/%3E%0A%20%20%20%20%3Clink%20rel%3D%22stylesheet%22%20href%3D%22https%3A//maxcdn.bootstrapcdn.com/bootstrap/3.2.0/css/bootstrap.min.css%22/%3E%0A%20%20%20%20%3Clink%20rel%3D%22stylesheet%22%20href%3D%22https%3A//maxcdn.bootstrapcdn.com/bootstrap/3.2.0/css/bootstrap-theme.min.css%22/%3E%0A%20%20%20%20%3Clink%20rel%3D%22stylesheet%22%20href%3D%22https%3A//maxcdn.bootstrapcdn.com/font-awesome/4.6.3/css/font-awesome.min.css%22/%3E%0A%20%20%20%20%3Clink%20rel%3D%22stylesheet%22%20href%3D%22https%3A//cdnjs.cloudflare.com/ajax/libs/Leaflet.awesome-markers/2.0.2/leaflet.awesome-markers.css%22/%3E%0A%20%20%20%20%3Clink%20rel%3D%22stylesheet%22%20href%3D%22https%3A//cdn.jsdelivr.net/gh/python-visualization/folium/folium/templates/leaflet.awesome.rotate.min.css%22/%3E%0A%20%20%20%20%0A%20%20%20%20%20%20%20%20%20%20%20%20%3Cmeta%20name%3D%22viewport%22%20content%3D%22width%3Ddevice-width%2C%0A%20%20%20%20%20%20%20%20%20%20%20%20%20%20%20%20initial-scale%3D1.0%2C%20maximum-scale%3D1.0%2C%20user-scalable%3Dno%22%20/%3E%0A%20%20%20%20%20%20%20%20%20%20%20%20%3Cstyle%3E%0A%20%20%20%20%20%20%20%20%20%20%20%20%20%20%20%20%23map_008b3d2d187943c7a73bcaa1b0009d30%20%7B%0A%20%20%20%20%20%20%20%20%20%20%20%20%20%20%20%20%20%20%20%20position%3A%20relative%3B%0A%20%20%20%20%20%20%20%20%20%20%20%20%20%20%20%20%20%20%20%20width%3A%20100.0%25%3B%0A%20%20%20%20%20%20%20%20%20%20%20%20%20%20%20%20%20%20%20%20height%3A%20100.0%25%3B%0A%20%20%20%20%20%20%20%20%20%20%20%20%20%20%20%20%20%20%20%20left%3A%200.0%25%3B%0A%20%20%20%20%20%20%20%20%20%20%20%20%20%20%20%20%20%20%20%20top%3A%200.0%25%3B%0A%20%20%20%20%20%20%20%20%20%20%20%20%20%20%20%20%7D%0A%20%20%20%20%20%20%20%20%20%20%20%20%3C/style%3E%0A%20%20%20%20%20%20%20%20%0A%3C/head%3E%0A%3Cbody%3E%20%20%20%20%0A%20%20%20%20%0A%20%20%20%20%20%20%20%20%20%20%20%20%3Cdiv%20class%3D%22folium-map%22%20id%3D%22map_008b3d2d187943c7a73bcaa1b0009d30%22%20%3E%3C/div%3E%0A%20%20%20%20%20%20%20%20%0A%3C/body%3E%0A%3Cscript%3E%20%20%20%20%0A%20%20%20%20%0A%20%20%20%20%20%20%20%20%20%20%20%20var%20map_008b3d2d187943c7a73bcaa1b0009d30%20%3D%20L.map%28%0A%20%20%20%20%20%20%20%20%20%20%20%20%20%20%20%20%22map_008b3d2d187943c7a73bcaa1b0009d30%22%2C%0A%20%20%20%20%20%20%20%20%20%20%20%20%20%20%20%20%7B%0A%20%20%20%20%20%20%20%20%20%20%20%20%20%20%20%20%20%20%20%20center%3A%20%5B50.67888207200831%2C%20-116.72893203289856%5D%2C%0A%20%20%20%20%20%20%20%20%20%20%20%20%20%20%20%20%20%20%20%20crs%3A%20L.CRS.EPSG3857%2C%0A%20%20%20%20%20%20%20%20%20%20%20%20%20%20%20%20%20%20%20%20zoom%3A%2010%2C%0A%20%20%20%20%20%20%20%20%20%20%20%20%20%20%20%20%20%20%20%20zoomControl%3A%20true%2C%0A%20%20%20%20%20%20%20%20%20%20%20%20%20%20%20%20%20%20%20%20preferCanvas%3A%20false%2C%0A%20%20%20%20%20%20%20%20%20%20%20%20%20%20%20%20%7D%0A%20%20%20%20%20%20%20%20%20%20%20%20%29%3B%0A%0A%20%20%20%20%20%20%20%20%20%20%20%20%0A%0A%20%20%20%20%20%20%20%20%0A%20%20%20%20%0A%20%20%20%20%20%20%20%20%20%20%20%20var%20tile_layer_52c37425a35b48be89297a2794b4d8be%20%3D%20L.tileLayer%28%0A%20%20%20%20%20%20%20%20%20%20%20%20%20%20%20%20%22https%3A//%7Bs%7D.tile.openstreetmap.org/%7Bz%7D/%7Bx%7D/%7By%7D.png%22%2C%0A%20%20%20%20%20%20%20%20%20%20%20%20%20%20%20%20%7B%22attribution%22%3A%20%22Data%20by%20%5Cu0026copy%3B%20%5Cu003ca%20href%3D%5C%22http%3A//openstreetmap.org%5C%22%5Cu003eOpenStreetMap%5Cu003c/a%5Cu003e%2C%20under%20%5Cu003ca%20href%3D%5C%22http%3A//www.openstreetmap.org/copyright%5C%22%5Cu003eODbL%5Cu003c/a%5Cu003e.%22%2C%20%22detectRetina%22%3A%20false%2C%20%22maxNativeZoom%22%3A%2018%2C%20%22maxZoom%22%3A%2018%2C%20%22minZoom%22%3A%200%2C%20%22noWrap%22%3A%20false%2C%20%22opacity%22%3A%201%2C%20%22subdomains%22%3A%20%22abc%22%2C%20%22tms%22%3A%20false%7D%0A%20%20%20%20%20%20%20%20%20%20%20%20%29.addTo%28map_008b3d2d187943c7a73bcaa1b0009d30%29%3B%0A%20%20%20%20%20%20%20%20%0A%20%20%20%20%0A%20%20%20%20%20%20%20%20%20%20%20%20var%20tile_layer_4d262226c84346f281f7c6114ffca5ae%20%3D%20L.tileLayer%28%0A%20%20%20%20%20%20%20%20%20%20%20%20%20%20%20%20%22https%3A//baxpil3vd6.execute-api.us-east-1.amazonaws.com/mosaicjson/tiles/%7Bz%7D/%7Bx%7D/%7By%7D.png%3Furl%3Ds3%253A%252F%252Fmaap-ops-dataset%252Fmaap-users%252Falexdevseed%252Flandsat8%252Fviz%252FL8_tile_test.json%5Cu0026bidx%3D6%5Cu0026resampling_method%3Dnearest%5Cu0026rescale%3D0%252C1%5Cu0026return_mask%3Dtrue%5Cu0026colormap_name%3Dviridis%22%2C%0A%20%20%20%20%20%20%20%20%20%20%20%20%20%20%20%20%7B%22attribution%22%3A%20%22USGS%22%2C%20%22detectRetina%22%3A%20false%2C%20%22maxNativeZoom%22%3A%2016%2C%20%22maxZoom%22%3A%2016%2C%20%22minZoom%22%3A%209%2C%20%22noWrap%22%3A%20false%2C%20%22opacity%22%3A%201%2C%20%22subdomains%22%3A%20%22abc%22%2C%20%22tms%22%3A%20false%7D%0A%20%20%20%20%20%20%20%20%20%20%20%20%29.addTo%28map_008b3d2d187943c7a73bcaa1b0009d30%29%3B%0A%20%20%20%20%20%20%20%20%0A%3C/script%3E onload=\"this.contentDocument.open();this.contentDocument.write(    decodeURIComponent(this.getAttribute('data-html')));this.contentDocument.close();\" allowfullscreen webkitallowfullscreen mozallowfullscreen></iframe></div></div>"
      ],
      "text/plain": [
       "<folium.folium.Map at 0x7ff8c5888040>"
      ]
     },
     "execution_count": 74,
     "metadata": {},
     "output_type": "execute_result"
    }
   ],
   "source": [
    "# Visualizing the map\n",
    "m"
   ]
  },
  {
   "cell_type": "code",
   "execution_count": 75,
   "metadata": {},
   "outputs": [
    {
     "data": {
      "text/plain": [
       "'https://baxpil3vd6.execute-api.us-east-1.amazonaws.com/mosaicjson/tiles/{z}/{x}/{y}.png?url=s3%3A%2F%2Fmaap-ops-dataset%2Fmaap-users%2Falexdevseed%2Flandsat8%2Fviz%2FL8_tile_test.json&bidx=6&resampling_method=nearest&rescale=0%2C1&return_mask=true&colormap_name=viridis'"
      ]
     },
     "execution_count": 75,
     "metadata": {},
     "output_type": "execute_result"
    }
   ],
   "source": [
    "full_tiles_url"
   ]
  }
 ],
 "metadata": {
  "kernelspec": {
   "display_name": "Python 3",
   "language": "python",
   "name": "python3"
  },
  "language_info": {
   "codemirror_mode": {
    "name": "ipython",
    "version": 3
   },
   "file_extension": ".py",
   "mimetype": "text/x-python",
   "name": "python",
   "nbconvert_exporter": "python",
   "pygments_lexer": "ipython3",
   "version": "3.8.8"
  }
 },
 "nbformat": 4,
 "nbformat_minor": 4
}
